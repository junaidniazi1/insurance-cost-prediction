{
  "nbformat": 4,
  "nbformat_minor": 0,
  "metadata": {
    "colab": {
      "provenance": []
    },
    "kernelspec": {
      "name": "python3",
      "display_name": "Python 3"
    },
    "language_info": {
      "name": "python"
    }
  },
  "cells": [
    {
      "cell_type": "markdown",
      "source": [
        "# IMPORT LIBARIES"
      ],
      "metadata": {
        "id": "yEJAw953xlFL"
      }
    },
    {
      "cell_type": "code",
      "execution_count": 2,
      "metadata": {
        "id": "jt88eawFw-Au"
      },
      "outputs": [],
      "source": [
        "import numpy as np\n",
        "import pandas as pd\n",
        "import matplotlib.pyplot as plt\n",
        "import seaborn as sns\n",
        "import warnings\n",
        "warnings.filterwarnings('ignore')\n",
        "from sklearn import preprocessing\n",
        "from sklearn.preprocessing import LabelEncoder"
      ]
    },
    {
      "cell_type": "markdown",
      "source": [
        "# IMPORT CSV FILE"
      ],
      "metadata": {
        "id": "Qd7krGB2x5dT"
      }
    },
    {
      "cell_type": "code",
      "source": [
        "data=pd.read_csv('/content/insurance.csv')"
      ],
      "metadata": {
        "id": "0-zu89TwxrEm"
      },
      "execution_count": 3,
      "outputs": []
    },
    {
      "cell_type": "markdown",
      "source": [
        "# PREVIEW THE DATASET"
      ],
      "metadata": {
        "id": "CWl7gjlHyJt6"
      }
    },
    {
      "cell_type": "code",
      "source": [
        "data"
      ],
      "metadata": {
        "colab": {
          "base_uri": "https://localhost:8080/",
          "height": 424
        },
        "id": "59Rs9WVWxyzC",
        "outputId": "56cc6ea3-3b09-4671-c706-f36f3b7c672c"
      },
      "execution_count": 4,
      "outputs": [
        {
          "output_type": "execute_result",
          "data": {
            "text/plain": [
              "      age     sex     bmi  children smoker     region      charges\n",
              "0      19  female  27.900         0    yes  southwest  16884.92400\n",
              "1      18    male  33.770         1     no  southeast   1725.55230\n",
              "2      28    male  33.000         3     no  southeast   4449.46200\n",
              "3      33    male  22.705         0     no  northwest  21984.47061\n",
              "4      32    male  28.880         0     no  northwest   3866.85520\n",
              "...   ...     ...     ...       ...    ...        ...          ...\n",
              "1333   50    male  30.970         3     no  northwest  10600.54830\n",
              "1334   18  female  31.920         0     no  northeast   2205.98080\n",
              "1335   18  female  36.850         0     no  southeast   1629.83350\n",
              "1336   21  female  25.800         0     no  southwest   2007.94500\n",
              "1337   61  female  29.070         0    yes  northwest  29141.36030\n",
              "\n",
              "[1338 rows x 7 columns]"
            ],
            "text/html": [
              "\n",
              "  <div id=\"df-71fb202c-f339-4055-9b61-fe504e61f80d\" class=\"colab-df-container\">\n",
              "    <div>\n",
              "<style scoped>\n",
              "    .dataframe tbody tr th:only-of-type {\n",
              "        vertical-align: middle;\n",
              "    }\n",
              "\n",
              "    .dataframe tbody tr th {\n",
              "        vertical-align: top;\n",
              "    }\n",
              "\n",
              "    .dataframe thead th {\n",
              "        text-align: right;\n",
              "    }\n",
              "</style>\n",
              "<table border=\"1\" class=\"dataframe\">\n",
              "  <thead>\n",
              "    <tr style=\"text-align: right;\">\n",
              "      <th></th>\n",
              "      <th>age</th>\n",
              "      <th>sex</th>\n",
              "      <th>bmi</th>\n",
              "      <th>children</th>\n",
              "      <th>smoker</th>\n",
              "      <th>region</th>\n",
              "      <th>charges</th>\n",
              "    </tr>\n",
              "  </thead>\n",
              "  <tbody>\n",
              "    <tr>\n",
              "      <th>0</th>\n",
              "      <td>19</td>\n",
              "      <td>female</td>\n",
              "      <td>27.900</td>\n",
              "      <td>0</td>\n",
              "      <td>yes</td>\n",
              "      <td>southwest</td>\n",
              "      <td>16884.92400</td>\n",
              "    </tr>\n",
              "    <tr>\n",
              "      <th>1</th>\n",
              "      <td>18</td>\n",
              "      <td>male</td>\n",
              "      <td>33.770</td>\n",
              "      <td>1</td>\n",
              "      <td>no</td>\n",
              "      <td>southeast</td>\n",
              "      <td>1725.55230</td>\n",
              "    </tr>\n",
              "    <tr>\n",
              "      <th>2</th>\n",
              "      <td>28</td>\n",
              "      <td>male</td>\n",
              "      <td>33.000</td>\n",
              "      <td>3</td>\n",
              "      <td>no</td>\n",
              "      <td>southeast</td>\n",
              "      <td>4449.46200</td>\n",
              "    </tr>\n",
              "    <tr>\n",
              "      <th>3</th>\n",
              "      <td>33</td>\n",
              "      <td>male</td>\n",
              "      <td>22.705</td>\n",
              "      <td>0</td>\n",
              "      <td>no</td>\n",
              "      <td>northwest</td>\n",
              "      <td>21984.47061</td>\n",
              "    </tr>\n",
              "    <tr>\n",
              "      <th>4</th>\n",
              "      <td>32</td>\n",
              "      <td>male</td>\n",
              "      <td>28.880</td>\n",
              "      <td>0</td>\n",
              "      <td>no</td>\n",
              "      <td>northwest</td>\n",
              "      <td>3866.85520</td>\n",
              "    </tr>\n",
              "    <tr>\n",
              "      <th>...</th>\n",
              "      <td>...</td>\n",
              "      <td>...</td>\n",
              "      <td>...</td>\n",
              "      <td>...</td>\n",
              "      <td>...</td>\n",
              "      <td>...</td>\n",
              "      <td>...</td>\n",
              "    </tr>\n",
              "    <tr>\n",
              "      <th>1333</th>\n",
              "      <td>50</td>\n",
              "      <td>male</td>\n",
              "      <td>30.970</td>\n",
              "      <td>3</td>\n",
              "      <td>no</td>\n",
              "      <td>northwest</td>\n",
              "      <td>10600.54830</td>\n",
              "    </tr>\n",
              "    <tr>\n",
              "      <th>1334</th>\n",
              "      <td>18</td>\n",
              "      <td>female</td>\n",
              "      <td>31.920</td>\n",
              "      <td>0</td>\n",
              "      <td>no</td>\n",
              "      <td>northeast</td>\n",
              "      <td>2205.98080</td>\n",
              "    </tr>\n",
              "    <tr>\n",
              "      <th>1335</th>\n",
              "      <td>18</td>\n",
              "      <td>female</td>\n",
              "      <td>36.850</td>\n",
              "      <td>0</td>\n",
              "      <td>no</td>\n",
              "      <td>southeast</td>\n",
              "      <td>1629.83350</td>\n",
              "    </tr>\n",
              "    <tr>\n",
              "      <th>1336</th>\n",
              "      <td>21</td>\n",
              "      <td>female</td>\n",
              "      <td>25.800</td>\n",
              "      <td>0</td>\n",
              "      <td>no</td>\n",
              "      <td>southwest</td>\n",
              "      <td>2007.94500</td>\n",
              "    </tr>\n",
              "    <tr>\n",
              "      <th>1337</th>\n",
              "      <td>61</td>\n",
              "      <td>female</td>\n",
              "      <td>29.070</td>\n",
              "      <td>0</td>\n",
              "      <td>yes</td>\n",
              "      <td>northwest</td>\n",
              "      <td>29141.36030</td>\n",
              "    </tr>\n",
              "  </tbody>\n",
              "</table>\n",
              "<p>1338 rows × 7 columns</p>\n",
              "</div>\n",
              "    <div class=\"colab-df-buttons\">\n",
              "\n",
              "  <div class=\"colab-df-container\">\n",
              "    <button class=\"colab-df-convert\" onclick=\"convertToInteractive('df-71fb202c-f339-4055-9b61-fe504e61f80d')\"\n",
              "            title=\"Convert this dataframe to an interactive table.\"\n",
              "            style=\"display:none;\">\n",
              "\n",
              "  <svg xmlns=\"http://www.w3.org/2000/svg\" height=\"24px\" viewBox=\"0 -960 960 960\">\n",
              "    <path d=\"M120-120v-720h720v720H120Zm60-500h600v-160H180v160Zm220 220h160v-160H400v160Zm0 220h160v-160H400v160ZM180-400h160v-160H180v160Zm440 0h160v-160H620v160ZM180-180h160v-160H180v160Zm440 0h160v-160H620v160Z\"/>\n",
              "  </svg>\n",
              "    </button>\n",
              "\n",
              "  <style>\n",
              "    .colab-df-container {\n",
              "      display:flex;\n",
              "      gap: 12px;\n",
              "    }\n",
              "\n",
              "    .colab-df-convert {\n",
              "      background-color: #E8F0FE;\n",
              "      border: none;\n",
              "      border-radius: 50%;\n",
              "      cursor: pointer;\n",
              "      display: none;\n",
              "      fill: #1967D2;\n",
              "      height: 32px;\n",
              "      padding: 0 0 0 0;\n",
              "      width: 32px;\n",
              "    }\n",
              "\n",
              "    .colab-df-convert:hover {\n",
              "      background-color: #E2EBFA;\n",
              "      box-shadow: 0px 1px 2px rgba(60, 64, 67, 0.3), 0px 1px 3px 1px rgba(60, 64, 67, 0.15);\n",
              "      fill: #174EA6;\n",
              "    }\n",
              "\n",
              "    .colab-df-buttons div {\n",
              "      margin-bottom: 4px;\n",
              "    }\n",
              "\n",
              "    [theme=dark] .colab-df-convert {\n",
              "      background-color: #3B4455;\n",
              "      fill: #D2E3FC;\n",
              "    }\n",
              "\n",
              "    [theme=dark] .colab-df-convert:hover {\n",
              "      background-color: #434B5C;\n",
              "      box-shadow: 0px 1px 3px 1px rgba(0, 0, 0, 0.15);\n",
              "      filter: drop-shadow(0px 1px 2px rgba(0, 0, 0, 0.3));\n",
              "      fill: #FFFFFF;\n",
              "    }\n",
              "  </style>\n",
              "\n",
              "    <script>\n",
              "      const buttonEl =\n",
              "        document.querySelector('#df-71fb202c-f339-4055-9b61-fe504e61f80d button.colab-df-convert');\n",
              "      buttonEl.style.display =\n",
              "        google.colab.kernel.accessAllowed ? 'block' : 'none';\n",
              "\n",
              "      async function convertToInteractive(key) {\n",
              "        const element = document.querySelector('#df-71fb202c-f339-4055-9b61-fe504e61f80d');\n",
              "        const dataTable =\n",
              "          await google.colab.kernel.invokeFunction('convertToInteractive',\n",
              "                                                    [key], {});\n",
              "        if (!dataTable) return;\n",
              "\n",
              "        const docLinkHtml = 'Like what you see? Visit the ' +\n",
              "          '<a target=\"_blank\" href=https://colab.research.google.com/notebooks/data_table.ipynb>data table notebook</a>'\n",
              "          + ' to learn more about interactive tables.';\n",
              "        element.innerHTML = '';\n",
              "        dataTable['output_type'] = 'display_data';\n",
              "        await google.colab.output.renderOutput(dataTable, element);\n",
              "        const docLink = document.createElement('div');\n",
              "        docLink.innerHTML = docLinkHtml;\n",
              "        element.appendChild(docLink);\n",
              "      }\n",
              "    </script>\n",
              "  </div>\n",
              "\n",
              "\n",
              "    <div id=\"df-1d6ff6d8-f8e1-498c-8ed6-211a77dbf0b4\">\n",
              "      <button class=\"colab-df-quickchart\" onclick=\"quickchart('df-1d6ff6d8-f8e1-498c-8ed6-211a77dbf0b4')\"\n",
              "                title=\"Suggest charts\"\n",
              "                style=\"display:none;\">\n",
              "\n",
              "<svg xmlns=\"http://www.w3.org/2000/svg\" height=\"24px\"viewBox=\"0 0 24 24\"\n",
              "     width=\"24px\">\n",
              "    <g>\n",
              "        <path d=\"M19 3H5c-1.1 0-2 .9-2 2v14c0 1.1.9 2 2 2h14c1.1 0 2-.9 2-2V5c0-1.1-.9-2-2-2zM9 17H7v-7h2v7zm4 0h-2V7h2v10zm4 0h-2v-4h2v4z\"/>\n",
              "    </g>\n",
              "</svg>\n",
              "      </button>\n",
              "\n",
              "<style>\n",
              "  .colab-df-quickchart {\n",
              "      --bg-color: #E8F0FE;\n",
              "      --fill-color: #1967D2;\n",
              "      --hover-bg-color: #E2EBFA;\n",
              "      --hover-fill-color: #174EA6;\n",
              "      --disabled-fill-color: #AAA;\n",
              "      --disabled-bg-color: #DDD;\n",
              "  }\n",
              "\n",
              "  [theme=dark] .colab-df-quickchart {\n",
              "      --bg-color: #3B4455;\n",
              "      --fill-color: #D2E3FC;\n",
              "      --hover-bg-color: #434B5C;\n",
              "      --hover-fill-color: #FFFFFF;\n",
              "      --disabled-bg-color: #3B4455;\n",
              "      --disabled-fill-color: #666;\n",
              "  }\n",
              "\n",
              "  .colab-df-quickchart {\n",
              "    background-color: var(--bg-color);\n",
              "    border: none;\n",
              "    border-radius: 50%;\n",
              "    cursor: pointer;\n",
              "    display: none;\n",
              "    fill: var(--fill-color);\n",
              "    height: 32px;\n",
              "    padding: 0;\n",
              "    width: 32px;\n",
              "  }\n",
              "\n",
              "  .colab-df-quickchart:hover {\n",
              "    background-color: var(--hover-bg-color);\n",
              "    box-shadow: 0 1px 2px rgba(60, 64, 67, 0.3), 0 1px 3px 1px rgba(60, 64, 67, 0.15);\n",
              "    fill: var(--button-hover-fill-color);\n",
              "  }\n",
              "\n",
              "  .colab-df-quickchart-complete:disabled,\n",
              "  .colab-df-quickchart-complete:disabled:hover {\n",
              "    background-color: var(--disabled-bg-color);\n",
              "    fill: var(--disabled-fill-color);\n",
              "    box-shadow: none;\n",
              "  }\n",
              "\n",
              "  .colab-df-spinner {\n",
              "    border: 2px solid var(--fill-color);\n",
              "    border-color: transparent;\n",
              "    border-bottom-color: var(--fill-color);\n",
              "    animation:\n",
              "      spin 1s steps(1) infinite;\n",
              "  }\n",
              "\n",
              "  @keyframes spin {\n",
              "    0% {\n",
              "      border-color: transparent;\n",
              "      border-bottom-color: var(--fill-color);\n",
              "      border-left-color: var(--fill-color);\n",
              "    }\n",
              "    20% {\n",
              "      border-color: transparent;\n",
              "      border-left-color: var(--fill-color);\n",
              "      border-top-color: var(--fill-color);\n",
              "    }\n",
              "    30% {\n",
              "      border-color: transparent;\n",
              "      border-left-color: var(--fill-color);\n",
              "      border-top-color: var(--fill-color);\n",
              "      border-right-color: var(--fill-color);\n",
              "    }\n",
              "    40% {\n",
              "      border-color: transparent;\n",
              "      border-right-color: var(--fill-color);\n",
              "      border-top-color: var(--fill-color);\n",
              "    }\n",
              "    60% {\n",
              "      border-color: transparent;\n",
              "      border-right-color: var(--fill-color);\n",
              "    }\n",
              "    80% {\n",
              "      border-color: transparent;\n",
              "      border-right-color: var(--fill-color);\n",
              "      border-bottom-color: var(--fill-color);\n",
              "    }\n",
              "    90% {\n",
              "      border-color: transparent;\n",
              "      border-bottom-color: var(--fill-color);\n",
              "    }\n",
              "  }\n",
              "</style>\n",
              "\n",
              "      <script>\n",
              "        async function quickchart(key) {\n",
              "          const quickchartButtonEl =\n",
              "            document.querySelector('#' + key + ' button');\n",
              "          quickchartButtonEl.disabled = true;  // To prevent multiple clicks.\n",
              "          quickchartButtonEl.classList.add('colab-df-spinner');\n",
              "          try {\n",
              "            const charts = await google.colab.kernel.invokeFunction(\n",
              "                'suggestCharts', [key], {});\n",
              "          } catch (error) {\n",
              "            console.error('Error during call to suggestCharts:', error);\n",
              "          }\n",
              "          quickchartButtonEl.classList.remove('colab-df-spinner');\n",
              "          quickchartButtonEl.classList.add('colab-df-quickchart-complete');\n",
              "        }\n",
              "        (() => {\n",
              "          let quickchartButtonEl =\n",
              "            document.querySelector('#df-1d6ff6d8-f8e1-498c-8ed6-211a77dbf0b4 button');\n",
              "          quickchartButtonEl.style.display =\n",
              "            google.colab.kernel.accessAllowed ? 'block' : 'none';\n",
              "        })();\n",
              "      </script>\n",
              "    </div>\n",
              "\n",
              "  <div id=\"id_7a85bd31-154c-45ce-be90-99739cd43dcd\">\n",
              "    <style>\n",
              "      .colab-df-generate {\n",
              "        background-color: #E8F0FE;\n",
              "        border: none;\n",
              "        border-radius: 50%;\n",
              "        cursor: pointer;\n",
              "        display: none;\n",
              "        fill: #1967D2;\n",
              "        height: 32px;\n",
              "        padding: 0 0 0 0;\n",
              "        width: 32px;\n",
              "      }\n",
              "\n",
              "      .colab-df-generate:hover {\n",
              "        background-color: #E2EBFA;\n",
              "        box-shadow: 0px 1px 2px rgba(60, 64, 67, 0.3), 0px 1px 3px 1px rgba(60, 64, 67, 0.15);\n",
              "        fill: #174EA6;\n",
              "      }\n",
              "\n",
              "      [theme=dark] .colab-df-generate {\n",
              "        background-color: #3B4455;\n",
              "        fill: #D2E3FC;\n",
              "      }\n",
              "\n",
              "      [theme=dark] .colab-df-generate:hover {\n",
              "        background-color: #434B5C;\n",
              "        box-shadow: 0px 1px 3px 1px rgba(0, 0, 0, 0.15);\n",
              "        filter: drop-shadow(0px 1px 2px rgba(0, 0, 0, 0.3));\n",
              "        fill: #FFFFFF;\n",
              "      }\n",
              "    </style>\n",
              "    <button class=\"colab-df-generate\" onclick=\"generateWithVariable('data')\"\n",
              "            title=\"Generate code using this dataframe.\"\n",
              "            style=\"display:none;\">\n",
              "\n",
              "  <svg xmlns=\"http://www.w3.org/2000/svg\" height=\"24px\"viewBox=\"0 0 24 24\"\n",
              "       width=\"24px\">\n",
              "    <path d=\"M7,19H8.4L18.45,9,17,7.55,7,17.6ZM5,21V16.75L18.45,3.32a2,2,0,0,1,2.83,0l1.4,1.43a1.91,1.91,0,0,1,.58,1.4,1.91,1.91,0,0,1-.58,1.4L9.25,21ZM18.45,9,17,7.55Zm-12,3A5.31,5.31,0,0,0,4.9,8.1,5.31,5.31,0,0,0,1,6.5,5.31,5.31,0,0,0,4.9,4.9,5.31,5.31,0,0,0,6.5,1,5.31,5.31,0,0,0,8.1,4.9,5.31,5.31,0,0,0,12,6.5,5.46,5.46,0,0,0,6.5,12Z\"/>\n",
              "  </svg>\n",
              "    </button>\n",
              "    <script>\n",
              "      (() => {\n",
              "      const buttonEl =\n",
              "        document.querySelector('#id_7a85bd31-154c-45ce-be90-99739cd43dcd button.colab-df-generate');\n",
              "      buttonEl.style.display =\n",
              "        google.colab.kernel.accessAllowed ? 'block' : 'none';\n",
              "\n",
              "      buttonEl.onclick = () => {\n",
              "        google.colab.notebook.generateWithVariable('data');\n",
              "      }\n",
              "      })();\n",
              "    </script>\n",
              "  </div>\n",
              "\n",
              "    </div>\n",
              "  </div>\n"
            ],
            "application/vnd.google.colaboratory.intrinsic+json": {
              "type": "dataframe",
              "variable_name": "data",
              "summary": "{\n  \"name\": \"data\",\n  \"rows\": 1338,\n  \"fields\": [\n    {\n      \"column\": \"age\",\n      \"properties\": {\n        \"dtype\": \"number\",\n        \"std\": 14,\n        \"min\": 18,\n        \"max\": 64,\n        \"num_unique_values\": 47,\n        \"samples\": [\n          21,\n          45,\n          36\n        ],\n        \"semantic_type\": \"\",\n        \"description\": \"\"\n      }\n    },\n    {\n      \"column\": \"sex\",\n      \"properties\": {\n        \"dtype\": \"category\",\n        \"num_unique_values\": 2,\n        \"samples\": [\n          \"male\",\n          \"female\"\n        ],\n        \"semantic_type\": \"\",\n        \"description\": \"\"\n      }\n    },\n    {\n      \"column\": \"bmi\",\n      \"properties\": {\n        \"dtype\": \"number\",\n        \"std\": 6.098186911679017,\n        \"min\": 15.96,\n        \"max\": 53.13,\n        \"num_unique_values\": 548,\n        \"samples\": [\n          23.18,\n          26.885\n        ],\n        \"semantic_type\": \"\",\n        \"description\": \"\"\n      }\n    },\n    {\n      \"column\": \"children\",\n      \"properties\": {\n        \"dtype\": \"number\",\n        \"std\": 1,\n        \"min\": 0,\n        \"max\": 5,\n        \"num_unique_values\": 6,\n        \"samples\": [\n          0,\n          1\n        ],\n        \"semantic_type\": \"\",\n        \"description\": \"\"\n      }\n    },\n    {\n      \"column\": \"smoker\",\n      \"properties\": {\n        \"dtype\": \"category\",\n        \"num_unique_values\": 2,\n        \"samples\": [\n          \"no\",\n          \"yes\"\n        ],\n        \"semantic_type\": \"\",\n        \"description\": \"\"\n      }\n    },\n    {\n      \"column\": \"region\",\n      \"properties\": {\n        \"dtype\": \"category\",\n        \"num_unique_values\": 4,\n        \"samples\": [\n          \"southeast\",\n          \"northeast\"\n        ],\n        \"semantic_type\": \"\",\n        \"description\": \"\"\n      }\n    },\n    {\n      \"column\": \"charges\",\n      \"properties\": {\n        \"dtype\": \"number\",\n        \"std\": 12110.011236693994,\n        \"min\": 1121.8739,\n        \"max\": 63770.42801,\n        \"num_unique_values\": 1337,\n        \"samples\": [\n          8688.85885,\n          5708.867\n        ],\n        \"semantic_type\": \"\",\n        \"description\": \"\"\n      }\n    }\n  ]\n}"
            }
          },
          "metadata": {},
          "execution_count": 4
        }
      ]
    },
    {
      "cell_type": "markdown",
      "source": [
        "# CHECK THE NULL VALUES"
      ],
      "metadata": {
        "id": "4SlUK0uiyN0w"
      }
    },
    {
      "cell_type": "code",
      "source": [
        "data.isnull().sum()"
      ],
      "metadata": {
        "colab": {
          "base_uri": "https://localhost:8080/",
          "height": 304
        },
        "id": "DcrYiCSHxzjr",
        "outputId": "e834e296-37e5-4848-e70a-7e230476e948"
      },
      "execution_count": 5,
      "outputs": [
        {
          "output_type": "execute_result",
          "data": {
            "text/plain": [
              "age         0\n",
              "sex         0\n",
              "bmi         0\n",
              "children    0\n",
              "smoker      0\n",
              "region      0\n",
              "charges     0\n",
              "dtype: int64"
            ],
            "text/html": [
              "<div>\n",
              "<style scoped>\n",
              "    .dataframe tbody tr th:only-of-type {\n",
              "        vertical-align: middle;\n",
              "    }\n",
              "\n",
              "    .dataframe tbody tr th {\n",
              "        vertical-align: top;\n",
              "    }\n",
              "\n",
              "    .dataframe thead th {\n",
              "        text-align: right;\n",
              "    }\n",
              "</style>\n",
              "<table border=\"1\" class=\"dataframe\">\n",
              "  <thead>\n",
              "    <tr style=\"text-align: right;\">\n",
              "      <th></th>\n",
              "      <th>0</th>\n",
              "    </tr>\n",
              "  </thead>\n",
              "  <tbody>\n",
              "    <tr>\n",
              "      <th>age</th>\n",
              "      <td>0</td>\n",
              "    </tr>\n",
              "    <tr>\n",
              "      <th>sex</th>\n",
              "      <td>0</td>\n",
              "    </tr>\n",
              "    <tr>\n",
              "      <th>bmi</th>\n",
              "      <td>0</td>\n",
              "    </tr>\n",
              "    <tr>\n",
              "      <th>children</th>\n",
              "      <td>0</td>\n",
              "    </tr>\n",
              "    <tr>\n",
              "      <th>smoker</th>\n",
              "      <td>0</td>\n",
              "    </tr>\n",
              "    <tr>\n",
              "      <th>region</th>\n",
              "      <td>0</td>\n",
              "    </tr>\n",
              "    <tr>\n",
              "      <th>charges</th>\n",
              "      <td>0</td>\n",
              "    </tr>\n",
              "  </tbody>\n",
              "</table>\n",
              "</div><br><label><b>dtype:</b> int64</label>"
            ]
          },
          "metadata": {},
          "execution_count": 5
        }
      ]
    },
    {
      "cell_type": "markdown",
      "source": [
        "# DESCRIBE THE DATA AND ALSO HOW MANY ROW AND COLUMN"
      ],
      "metadata": {
        "id": "yg3FzKkuyTSI"
      }
    },
    {
      "cell_type": "code",
      "source": [
        "K=data.describe()\n",
        "f=data.shape"
      ],
      "metadata": {
        "id": "Hbmmcmnux2to"
      },
      "execution_count": 6,
      "outputs": []
    },
    {
      "cell_type": "code",
      "source": [
        "print(f\"THE NUMBER OF ROWS ARE {f[0]} AND THE NUMBER OF COLUMNS ARE {f[1]}\")\n",
        "print(\"THE DESCRIPTION OF THE DATA IS\")\n",
        "print(K)"
      ],
      "metadata": {
        "colab": {
          "base_uri": "https://localhost:8080/"
        },
        "id": "cI5VbvvKygBI",
        "outputId": "f9ded96f-6287-4bca-dc35-e027b24c1bf3"
      },
      "execution_count": 7,
      "outputs": [
        {
          "output_type": "stream",
          "name": "stdout",
          "text": [
            "THE NUMBER OF ROWS ARE 1338 AND THE NUMBER OF COLUMNS ARE 7\n",
            "THE DESCRIPTION OF THE DATA IS\n",
            "               age          bmi     children       charges\n",
            "count  1338.000000  1338.000000  1338.000000   1338.000000\n",
            "mean     39.207025    30.663397     1.094918  13270.422265\n",
            "std      14.049960     6.098187     1.205493  12110.011237\n",
            "min      18.000000    15.960000     0.000000   1121.873900\n",
            "25%      27.000000    26.296250     0.000000   4740.287150\n",
            "50%      39.000000    30.400000     1.000000   9382.033000\n",
            "75%      51.000000    34.693750     2.000000  16639.912515\n",
            "max      64.000000    53.130000     5.000000  63770.428010\n"
          ]
        }
      ]
    },
    {
      "cell_type": "markdown",
      "source": [
        "# CHECK THE UNIQE VALUE FROM THE DATASET"
      ],
      "metadata": {
        "id": "WdJ5a4LRztTZ"
      }
    },
    {
      "cell_type": "code",
      "source": [
        "for col in data.columns:\n",
        "    print(f\"Unique values in '{col}':\")\n",
        "    print(data[col].unique())\n",
        "    print(\"-\" * 40)"
      ],
      "metadata": {
        "colab": {
          "base_uri": "https://localhost:8080/"
        },
        "id": "MntETKsxyyQ2",
        "outputId": "20ea24c3-22d8-4575-ca2b-3df42809015b"
      },
      "execution_count": 9,
      "outputs": [
        {
          "output_type": "stream",
          "name": "stdout",
          "text": [
            "Unique values in 'age':\n",
            "[19 18 28 33 32 31 46 37 60 25 62 23 56 27 52 30 34 59 63 55 22 26 35 24\n",
            " 41 38 36 21 48 40 58 53 43 64 20 61 44 57 29 45 54 49 47 51 42 50 39]\n",
            "----------------------------------------\n",
            "Unique values in 'sex':\n",
            "['female' 'male']\n",
            "----------------------------------------\n",
            "Unique values in 'bmi':\n",
            "[27.9   33.77  33.    22.705 28.88  25.74  33.44  27.74  29.83  25.84\n",
            " 26.22  26.29  34.4   39.82  42.13  24.6   30.78  23.845 40.3   35.3\n",
            " 36.005 32.4   34.1   31.92  28.025 27.72  23.085 32.775 17.385 36.3\n",
            " 35.6   26.315 28.6   28.31  36.4   20.425 32.965 20.8   36.67  39.9\n",
            " 26.6   36.63  21.78  30.8   37.05  37.3   38.665 34.77  24.53  35.2\n",
            " 35.625 33.63  28.    34.43  28.69  36.955 31.825 31.68  22.88  37.335\n",
            " 27.36  33.66  24.7   25.935 22.42  28.9   39.1   36.19  23.98  24.75\n",
            " 28.5   28.1   32.01  27.4   34.01  29.59  35.53  39.805 26.885 38.285\n",
            " 37.62  41.23  34.8   22.895 31.16  27.2   26.98  39.49  24.795 31.3\n",
            " 38.28  19.95  19.3   31.6   25.46  30.115 29.92  27.5   28.4   30.875\n",
            " 27.94  35.09  29.7   35.72  32.205 28.595 49.06  27.17  23.37  37.1\n",
            " 23.75  28.975 31.35  33.915 28.785 28.3   37.4   17.765 34.7   26.505\n",
            " 22.04  35.9   25.555 28.05  25.175 31.9   36.    32.49  25.3   29.735\n",
            " 38.83  30.495 37.73  37.43  24.13  37.145 39.52  24.42  27.83  36.85\n",
            " 39.6   29.8   29.64  28.215 37.    33.155 18.905 41.47  30.3   15.96\n",
            " 33.345 37.7   27.835 29.2   26.41  30.69  41.895 30.9   32.2   32.11\n",
            " 31.57  26.2   30.59  32.8   18.05  39.33  32.23  24.035 36.08  22.3\n",
            " 26.4   31.8   26.73  23.1   23.21  33.7   33.25  24.64  33.88  38.06\n",
            " 41.91  31.635 36.195 17.8   24.51  22.22  38.39  29.07  22.135 26.8\n",
            " 30.02  35.86  20.9   17.29  34.21  25.365 40.15  24.415 25.2   26.84\n",
            " 24.32  42.35  19.8   32.395 30.2   29.37  34.2   27.455 27.55  20.615\n",
            " 24.3   31.79  21.56  28.12  40.565 27.645 31.2   26.62  48.07  36.765\n",
            " 33.4   45.54  28.82  22.99  27.7   25.41  34.39  22.61  37.51  38.\n",
            " 33.33  34.865 33.06  35.97  31.4   25.27  40.945 34.105 36.48  33.8\n",
            " 36.7   36.385 34.5   32.3   27.6   29.26  35.75  23.18  25.6   35.245\n",
            " 43.89  20.79  30.5   21.7   21.89  24.985 32.015 30.4   21.09  22.23\n",
            " 32.9   24.89  31.46  17.955 30.685 43.34  39.05  30.21  31.445 19.855\n",
            " 31.02  38.17  20.6   47.52  20.4   38.38  24.31  23.6   21.12  30.03\n",
            " 17.48  20.235 17.195 23.9   35.15  35.64  22.6   39.16  27.265 29.165\n",
            " 16.815 33.1   26.9   33.11  31.73  46.75  29.45  32.68  33.5   43.01\n",
            " 36.52  26.695 25.65  29.6   38.6   23.4   46.53  30.14  30.    38.095\n",
            " 28.38  28.7   33.82  24.09  32.67  25.1   32.56  41.325 39.5   34.3\n",
            " 31.065 21.47  25.08  43.4   25.7   27.93  39.2   26.03  30.25  28.93\n",
            " 35.7   35.31  31.    44.22  26.07  25.8   39.425 40.48  38.9   47.41\n",
            " 35.435 46.7   46.2   21.4   23.8   44.77  32.12  29.1   37.29  43.12\n",
            " 36.86  34.295 23.465 45.43  23.65  20.7   28.27  35.91  29.    19.57\n",
            " 31.13  21.85  40.26  33.725 29.48  32.6   37.525 23.655 37.8   19.\n",
            " 21.3   33.535 42.46  38.95  36.1   29.3   39.7   38.19  42.4   34.96\n",
            " 42.68  31.54  29.81  21.375 40.81  17.4   20.3   18.5   26.125 41.69\n",
            " 24.1   36.2   40.185 39.27  34.87  44.745 29.545 23.54  40.47  40.66\n",
            " 36.6   35.4   27.075 28.405 21.755 40.28  30.1   32.1   23.7   35.5\n",
            " 29.15  27.    37.905 22.77  22.8   34.58  27.1   19.475 26.7   34.32\n",
            " 24.4   41.14  22.515 41.8   26.18  42.24  26.51  35.815 41.42  36.575\n",
            " 42.94  21.01  24.225 17.67  31.5   31.1   32.78  32.45  50.38  47.6\n",
            " 25.4   29.9   43.7   24.86  28.8   29.5   29.04  38.94  44.    20.045\n",
            " 40.92  35.1   29.355 32.585 32.34  39.8   24.605 33.99  28.2   25.\n",
            " 33.2   23.2   20.1   32.5   37.18  46.09  39.93  35.8   31.255 18.335\n",
            " 42.9   26.79  39.615 25.9   25.745 28.16  23.56  40.5   35.42  39.995\n",
            " 34.675 20.52  23.275 36.29  32.7   19.19  20.13  23.32  45.32  34.6\n",
            " 18.715 21.565 23.    37.07  52.58  42.655 21.66  32.    18.3   47.74\n",
            " 22.1   19.095 31.24  29.925 20.35  25.85  42.75  18.6   23.87  45.9\n",
            " 21.5   30.305 44.88  41.1   40.37  28.49  33.55  40.375 27.28  17.86\n",
            " 33.3   39.14  21.945 24.97  23.94  34.485 21.8   23.3   36.96  21.28\n",
            " 29.4   27.3   37.9   37.715 23.76  25.52  27.61  27.06  39.4   34.9\n",
            " 22.    30.36  27.8   53.13  39.71  32.87  44.7   30.97 ]\n",
            "----------------------------------------\n",
            "Unique values in 'children':\n",
            "[0 1 3 2 5 4]\n",
            "----------------------------------------\n",
            "Unique values in 'smoker':\n",
            "['yes' 'no']\n",
            "----------------------------------------\n",
            "Unique values in 'region':\n",
            "['southwest' 'southeast' 'northwest' 'northeast']\n",
            "----------------------------------------\n",
            "Unique values in 'charges':\n",
            "[16884.924   1725.5523  4449.462  ...  1629.8335  2007.945  29141.3603]\n",
            "----------------------------------------\n"
          ]
        }
      ]
    },
    {
      "cell_type": "markdown",
      "source": [
        "# MAPPING THE DATASET"
      ],
      "metadata": {
        "id": "fm2hy2u90Qy4"
      }
    },
    {
      "cell_type": "code",
      "source": [
        "data[\"sex\"] = data[\"sex\"].map({\"female\": 0, \"male\": 1})\n",
        "data[\"smoker\"] = data[\"smoker\"].map({\"no\": 0, \"yes\": 1})\n",
        "data[\"region\"] = data[\"region\"].map({\"southwest\": 0, \"southeast\": 1, \"northwest\": 2, \"northeast\": 3})\n",
        "\n",
        "print(data.head())"
      ],
      "metadata": {
        "colab": {
          "base_uri": "https://localhost:8080/"
        },
        "id": "SwpHlNyhz8pL",
        "outputId": "07db8469-e76b-48a3-c070-5b623134d81f"
      },
      "execution_count": 10,
      "outputs": [
        {
          "output_type": "stream",
          "name": "stdout",
          "text": [
            "   age  sex     bmi  children  smoker  region      charges\n",
            "0   19    0  27.900         0       1       0  16884.92400\n",
            "1   18    1  33.770         1       0       1   1725.55230\n",
            "2   28    1  33.000         3       0       1   4449.46200\n",
            "3   33    1  22.705         0       0       2  21984.47061\n",
            "4   32    1  28.880         0       0       2   3866.85520\n"
          ]
        }
      ]
    },
    {
      "cell_type": "markdown",
      "source": [
        "# TRAIN THE MODEL\n"
      ],
      "metadata": {
        "id": "44D3Zudw1JdX"
      }
    },
    {
      "cell_type": "code",
      "source": [
        "import pandas as pd\n",
        "from sklearn.model_selection import train_test_split\n",
        "from sklearn.linear_model import LinearRegression, Lasso, Ridge\n",
        "from sklearn.ensemble import RandomForestRegressor, GradientBoostingRegressor\n",
        "from sklearn.metrics import mean_absolute_error, mean_squared_error, r2_score\n",
        "import numpy as np\n",
        "\n",
        "\n",
        "# Features (X) and target (y)\n",
        "X = data.drop(\"charges\", axis=1)\n",
        "y = data[\"charges\"]\n",
        "\n",
        "# Train-test split (80% train, 20% test)\n",
        "X_train, X_test, y_train, y_test = train_test_split(X, y, test_size=0.2, random_state=42)\n",
        "\n",
        "# Models to try\n",
        "models = {\n",
        "    \"Linear Regression\": LinearRegression(),\n",
        "    \"Lasso Regression\": Lasso(alpha=0.1),\n",
        "    \"Ridge Regression\": Ridge(alpha=1.0),\n",
        "    \"Random Forest\": RandomForestRegressor(n_estimators=100, random_state=42),\n",
        "    \"Gradient Boosting\": GradientBoostingRegressor(n_estimators=100, random_state=42)\n",
        "}\n",
        "\n",
        "# Train and evaluate each model\n",
        "results = {}\n",
        "for name, model in models.items():\n",
        "    model.fit(X_train, y_train)\n",
        "    y_pred = model.predict(X_test)\n",
        "\n",
        "    mae = mean_absolute_error(y_test, y_pred)\n",
        "    rmse = np.sqrt(mean_squared_error(y_test, y_pred))\n",
        "    r2 = r2_score(y_test, y_pred)\n",
        "\n",
        "    results[name] = {\"MAE\": mae, \"RMSE\": rmse, \"R²\": r2}\n",
        "\n",
        "# Convert results into DataFrame for comparison\n",
        "results_df = pd.DataFrame(results).T\n",
        "print(results_df)\n"
      ],
      "metadata": {
        "colab": {
          "base_uri": "https://localhost:8080/"
        },
        "id": "MioL7pb-29MW",
        "outputId": "4a434035-f3b8-4207-b9c9-eff2f7879cef"
      },
      "execution_count": 22,
      "outputs": [
        {
          "output_type": "stream",
          "name": "stdout",
          "text": [
            "                           MAE         RMSE        R²\n",
            "Linear Regression  4186.508898  5799.587091  0.783346\n",
            "Lasso Regression   4186.582633  5799.622604  0.783344\n",
            "Ridge Regression   4198.141005  5803.084710  0.783085\n",
            "Random Forest      2523.085598  4600.475912  0.863674\n",
            "Gradient Boosting  2447.951558  4352.538932  0.877973\n"
          ]
        }
      ]
    },
    {
      "cell_type": "code",
      "source": [
        "import pandas as pd\n",
        "import numpy as np\n",
        "import matplotlib.pyplot as plt\n",
        "from sklearn.model_selection import train_test_split\n",
        "from sklearn.preprocessing import StandardScaler\n",
        "from sklearn.ensemble import GradientBoostingRegressor\n",
        "from sklearn.metrics import mean_absolute_error, mean_squared_error, r2_score\n",
        "import joblib  # for saving model\n",
        "\n",
        "\n",
        "\n",
        "# Features & Target\n",
        "X = data.drop(\"charges\", axis=1)\n",
        "y = data[\"charges\"]\n",
        "\n",
        "# Train-test split\n",
        "X_train, X_test, y_train, y_test = train_test_split(X, y, test_size=0.2, random_state=42)\n",
        "\n",
        "# Scale features\n",
        "scaler = StandardScaler()\n",
        "X_train_scaled = scaler.fit_transform(X_train)\n",
        "X_test_scaled = scaler.transform(X_test)\n",
        "\n",
        "# Train Gradient Boosting\n",
        "gb_model = GradientBoostingRegressor(n_estimators=200, learning_rate=0.1, random_state=42)\n",
        "gb_model.fit(X_train_scaled, y_train)\n",
        "\n",
        "# Predictions\n",
        "y_train_pred = gb_model.predict(X_train_scaled)\n",
        "y_test_pred = gb_model.predict(X_test_scaled)\n",
        "\n",
        "# Evaluation\n",
        "print(\"Train R²:\", r2_score(y_train, y_train_pred))\n",
        "print(\"Test R²:\", r2_score(y_test, y_test_pred))\n",
        "\n",
        "# Save model\n",
        "joblib.dump(gb_model, \"gradient_boosting_insurance.pkl\")\n",
        "joblib.dump(scaler, \"scaler.pkl\")  # save scaler too\n",
        "\n",
        "# ---- Visualization ----\n",
        "plt.figure(figsize=(10,6))\n",
        "\n",
        "# Sort values for smooth line plots\n",
        "sorted_idx_train = np.argsort(y_train.values)\n",
        "sorted_idx_test = np.argsort(y_test.values)\n",
        "\n",
        "plt.plot(y_train.values[sorted_idx_train], label=\"Train Actual\", color=\"blue\")\n",
        "plt.plot(y_train_pred[sorted_idx_train], label=\"Train Predicted\", linestyle=\"--\", color=\"cyan\")\n",
        "\n",
        "plt.plot(y_test.values[sorted_idx_test], label=\"Test Actual\", color=\"red\")\n",
        "plt.plot(y_test_pred[sorted_idx_test], label=\"Test Predicted\", linestyle=\"--\", color=\"orange\")\n",
        "\n",
        "plt.xlabel(\"Samples\")\n",
        "plt.ylabel(\"Charges\")\n",
        "plt.title(\"Gradient Boosting: Train vs Test Predictions\")\n",
        "plt.legend()\n",
        "plt.show()\n"
      ],
      "metadata": {
        "colab": {
          "base_uri": "https://localhost:8080/",
          "height": 599
        },
        "id": "Zrn6NCCX3TN8",
        "outputId": "f1e5c429-77db-4665-eea6-e0446dd5dbfe"
      },
      "execution_count": 23,
      "outputs": [
        {
          "output_type": "stream",
          "name": "stdout",
          "text": [
            "Train R²: 0.9217545440375992\n",
            "Test R²: 0.8743272487213666\n"
          ]
        },
        {
          "output_type": "display_data",
          "data": {
            "text/plain": [
              "<Figure size 1000x600 with 1 Axes>"
            ],
            "image/png": "[encoded data removed]"
          },
          "metadata": {}
        }
      ]
    },
    {
      "cell_type": "markdown",
      "source": [
        "# save the model\n"
      ],
      "metadata": {
        "id": "ya6Hsbz3I6MN"
      }
    },
    {
      "cell_type": "code",
      "source": [
        "import joblib\n",
        "from sklearn.ensemble import GradientBoostingRegressor\n",
        "\n",
        "# Train Gradient Boosting model\n",
        "gb_model = GradientBoostingRegressor(n_estimators=100, random_state=42)\n",
        "gb_model.fit(X_train_scaled, y_train)\n",
        "\n",
        "# Save the model\n",
        "joblib.dump(gb_model, \"gradient_boosting_model.pkl\")\n",
        "\n",
        "print(\"✅ Model saved as gradient_boosting_model.pkl\")\n"
      ],
      "metadata": {
        "colab": {
          "base_uri": "https://localhost:8080/"
        },
        "id": "M75INBje3ytM",
        "outputId": "19a9cb4e-7587-4a1e-a358-ceb76fac4ffe"
      },
      "execution_count": 24,
      "outputs": [
        {
          "output_type": "stream",
          "name": "stdout",
          "text": [
            "✅ Model saved as gradient_boosting_model.pkl\n"
          ]
        }
      ]
    },
    {
      "cell_type": "code",
      "source": [],
      "metadata": {
        "id": "WQv_WZpyAILs"
      },
      "execution_count": null,
      "outputs": []
    }
  ]
}